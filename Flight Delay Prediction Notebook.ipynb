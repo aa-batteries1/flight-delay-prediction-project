{
 "cells": [
  {
   "cell_type": "markdown",
   "metadata": {},
   "source": [
    "# Contents\n",
    "**1. Data Exploration**\n",
    "\n",
    "**2. Data Visualisation**\n",
    "\n",
    "**3. Modelling Factors Affecting Adoption Speed**\n",
    "\n",
    "**4. Prediction**\n",
    "\n",
    "**5. Future Analysis Extension**"
   ]
  },
  {
   "cell_type": "code",
   "execution_count": 1,
   "metadata": {},
   "outputs": [
    {
     "name": "stderr",
     "output_type": "stream",
     "text": [
      "/Users/aashrit/anaconda3/lib/python3.7/site-packages/statsmodels/tools/_testing.py:19: FutureWarning: pandas.util.testing is deprecated. Use the functions in the public API at pandas.testing instead.\n",
      "  import pandas.util.testing as tm\n"
     ]
    }
   ],
   "source": [
    "import pandas as pd\n",
    "import numpy as np\n",
    "import seaborn as sns\n",
    "import matplotlib.pyplot as plt"
   ]
  },
  {
   "cell_type": "code",
   "execution_count": 2,
   "metadata": {},
   "outputs": [],
   "source": [
    "#Loading the relevant data\n",
    "airlines = pd.read_csv('.../airlines.csv')\n",
    "airports = pd.read_csv('.../airports.csv')\n",
    "flights = pd.read_csv('.../flights.csv')\n",
    "weather = pd.read_csv('.../weather.csv')"
   ]
  },
  {
   "cell_type": "markdown",
   "metadata": {},
   "source": [
    "# 1. Data Exploration"
   ]
  },
  {
   "cell_type": "markdown",
   "metadata": {},
   "source": [
    "### Original Data"
   ]
  },
  {
   "cell_type": "code",
   "execution_count": 3,
   "metadata": {},
   "outputs": [
    {
     "data": {
      "text/html": [
       "<div>\n",
       "<style scoped>\n",
       "    .dataframe tbody tr th:only-of-type {\n",
       "        vertical-align: middle;\n",
       "    }\n",
       "\n",
       "    .dataframe tbody tr th {\n",
       "        vertical-align: top;\n",
       "    }\n",
       "\n",
       "    .dataframe thead th {\n",
       "        text-align: right;\n",
       "    }\n",
       "</style>\n",
       "<table border=\"1\" class=\"dataframe\">\n",
       "  <thead>\n",
       "    <tr style=\"text-align: right;\">\n",
       "      <th></th>\n",
       "      <th>carrier</th>\n",
       "      <th>name</th>\n",
       "    </tr>\n",
       "  </thead>\n",
       "  <tbody>\n",
       "    <tr>\n",
       "      <th>0</th>\n",
       "      <td>9E</td>\n",
       "      <td>Endeavor Air Inc.</td>\n",
       "    </tr>\n",
       "    <tr>\n",
       "      <th>1</th>\n",
       "      <td>AA</td>\n",
       "      <td>American Airlines Inc.</td>\n",
       "    </tr>\n",
       "    <tr>\n",
       "      <th>2</th>\n",
       "      <td>AS</td>\n",
       "      <td>Alaska Airlines Inc.</td>\n",
       "    </tr>\n",
       "    <tr>\n",
       "      <th>3</th>\n",
       "      <td>B6</td>\n",
       "      <td>JetBlue Airways</td>\n",
       "    </tr>\n",
       "    <tr>\n",
       "      <th>4</th>\n",
       "      <td>DL</td>\n",
       "      <td>Delta Air Lines Inc.</td>\n",
       "    </tr>\n",
       "    <tr>\n",
       "      <th>5</th>\n",
       "      <td>EV</td>\n",
       "      <td>ExpressJet Airlines Inc.</td>\n",
       "    </tr>\n",
       "    <tr>\n",
       "      <th>6</th>\n",
       "      <td>F9</td>\n",
       "      <td>Frontier Airlines Inc.</td>\n",
       "    </tr>\n",
       "    <tr>\n",
       "      <th>7</th>\n",
       "      <td>FL</td>\n",
       "      <td>AirTran Airways Corporation</td>\n",
       "    </tr>\n",
       "    <tr>\n",
       "      <th>8</th>\n",
       "      <td>HA</td>\n",
       "      <td>Hawaiian Airlines Inc.</td>\n",
       "    </tr>\n",
       "    <tr>\n",
       "      <th>9</th>\n",
       "      <td>MQ</td>\n",
       "      <td>Envoy Air</td>\n",
       "    </tr>\n",
       "    <tr>\n",
       "      <th>10</th>\n",
       "      <td>OO</td>\n",
       "      <td>SkyWest Airlines Inc.</td>\n",
       "    </tr>\n",
       "    <tr>\n",
       "      <th>11</th>\n",
       "      <td>UA</td>\n",
       "      <td>United Air Lines Inc.</td>\n",
       "    </tr>\n",
       "    <tr>\n",
       "      <th>12</th>\n",
       "      <td>US</td>\n",
       "      <td>US Airways Inc.</td>\n",
       "    </tr>\n",
       "    <tr>\n",
       "      <th>13</th>\n",
       "      <td>VX</td>\n",
       "      <td>Virgin America</td>\n",
       "    </tr>\n",
       "    <tr>\n",
       "      <th>14</th>\n",
       "      <td>WN</td>\n",
       "      <td>Southwest Airlines Co.</td>\n",
       "    </tr>\n",
       "    <tr>\n",
       "      <th>15</th>\n",
       "      <td>YV</td>\n",
       "      <td>Mesa Airlines Inc.</td>\n",
       "    </tr>\n",
       "  </tbody>\n",
       "</table>\n",
       "</div>"
      ],
      "text/plain": [
       "   carrier                         name\n",
       "0       9E            Endeavor Air Inc.\n",
       "1       AA       American Airlines Inc.\n",
       "2       AS         Alaska Airlines Inc.\n",
       "3       B6              JetBlue Airways\n",
       "4       DL         Delta Air Lines Inc.\n",
       "5       EV     ExpressJet Airlines Inc.\n",
       "6       F9       Frontier Airlines Inc.\n",
       "7       FL  AirTran Airways Corporation\n",
       "8       HA       Hawaiian Airlines Inc.\n",
       "9       MQ                    Envoy Air\n",
       "10      OO        SkyWest Airlines Inc.\n",
       "11      UA        United Air Lines Inc.\n",
       "12      US              US Airways Inc.\n",
       "13      VX               Virgin America\n",
       "14      WN       Southwest Airlines Co.\n",
       "15      YV           Mesa Airlines Inc."
      ]
     },
     "execution_count": 3,
     "metadata": {},
     "output_type": "execute_result"
    }
   ],
   "source": [
    "airlines\n",
    "#The data contains flights of 16 different carriers"
   ]
  },
  {
   "cell_type": "code",
   "execution_count": 4,
   "metadata": {},
   "outputs": [
    {
     "data": {
      "text/html": [
       "<div>\n",
       "<style scoped>\n",
       "    .dataframe tbody tr th:only-of-type {\n",
       "        vertical-align: middle;\n",
       "    }\n",
       "\n",
       "    .dataframe tbody tr th {\n",
       "        vertical-align: top;\n",
       "    }\n",
       "\n",
       "    .dataframe thead th {\n",
       "        text-align: right;\n",
       "    }\n",
       "</style>\n",
       "<table border=\"1\" class=\"dataframe\">\n",
       "  <thead>\n",
       "    <tr style=\"text-align: right;\">\n",
       "      <th></th>\n",
       "      <th>faa</th>\n",
       "      <th>name</th>\n",
       "    </tr>\n",
       "  </thead>\n",
       "  <tbody>\n",
       "    <tr>\n",
       "      <th>0</th>\n",
       "      <td>04G</td>\n",
       "      <td>Lansdowne Airport</td>\n",
       "    </tr>\n",
       "    <tr>\n",
       "      <th>1</th>\n",
       "      <td>06A</td>\n",
       "      <td>Moton Field Municipal Airport</td>\n",
       "    </tr>\n",
       "    <tr>\n",
       "      <th>2</th>\n",
       "      <td>06C</td>\n",
       "      <td>Schaumburg Regional</td>\n",
       "    </tr>\n",
       "    <tr>\n",
       "      <th>3</th>\n",
       "      <td>06N</td>\n",
       "      <td>Randall Airport</td>\n",
       "    </tr>\n",
       "    <tr>\n",
       "      <th>4</th>\n",
       "      <td>09J</td>\n",
       "      <td>Jekyll Island Airport</td>\n",
       "    </tr>\n",
       "    <tr>\n",
       "      <th>...</th>\n",
       "      <td>...</td>\n",
       "      <td>...</td>\n",
       "    </tr>\n",
       "    <tr>\n",
       "      <th>1453</th>\n",
       "      <td>ZUN</td>\n",
       "      <td>Black Rock</td>\n",
       "    </tr>\n",
       "    <tr>\n",
       "      <th>1454</th>\n",
       "      <td>ZVE</td>\n",
       "      <td>New Haven Rail Station</td>\n",
       "    </tr>\n",
       "    <tr>\n",
       "      <th>1455</th>\n",
       "      <td>ZWI</td>\n",
       "      <td>Wilmington Amtrak Station</td>\n",
       "    </tr>\n",
       "    <tr>\n",
       "      <th>1456</th>\n",
       "      <td>ZWU</td>\n",
       "      <td>Washington Union Station</td>\n",
       "    </tr>\n",
       "    <tr>\n",
       "      <th>1457</th>\n",
       "      <td>ZYP</td>\n",
       "      <td>Penn Station</td>\n",
       "    </tr>\n",
       "  </tbody>\n",
       "</table>\n",
       "<p>1458 rows × 2 columns</p>\n",
       "</div>"
      ],
      "text/plain": [
       "      faa                           name\n",
       "0     04G              Lansdowne Airport\n",
       "1     06A  Moton Field Municipal Airport\n",
       "2     06C            Schaumburg Regional\n",
       "3     06N                Randall Airport\n",
       "4     09J          Jekyll Island Airport\n",
       "...   ...                            ...\n",
       "1453  ZUN                     Black Rock\n",
       "1454  ZVE         New Haven Rail Station\n",
       "1455  ZWI      Wilmington Amtrak Station\n",
       "1456  ZWU       Washington Union Station\n",
       "1457  ZYP                   Penn Station\n",
       "\n",
       "[1458 rows x 2 columns]"
      ]
     },
     "execution_count": 4,
     "metadata": {},
     "output_type": "execute_result"
    }
   ],
   "source": [
    "airports\n",
    "#Flights take off or land at 1458 different airports"
   ]
  },
  {
   "cell_type": "code",
   "execution_count": 5,
   "metadata": {},
   "outputs": [
    {
     "data": {
      "text/html": [
       "<div>\n",
       "<style scoped>\n",
       "    .dataframe tbody tr th:only-of-type {\n",
       "        vertical-align: middle;\n",
       "    }\n",
       "\n",
       "    .dataframe tbody tr th {\n",
       "        vertical-align: top;\n",
       "    }\n",
       "\n",
       "    .dataframe thead th {\n",
       "        text-align: right;\n",
       "    }\n",
       "</style>\n",
       "<table border=\"1\" class=\"dataframe\">\n",
       "  <thead>\n",
       "    <tr style=\"text-align: right;\">\n",
       "      <th></th>\n",
       "      <th>year</th>\n",
       "      <th>month</th>\n",
       "      <th>day</th>\n",
       "      <th>dep_time</th>\n",
       "      <th>sched_dep_time</th>\n",
       "      <th>dep_delay</th>\n",
       "      <th>arr_time</th>\n",
       "      <th>sched_arr_time</th>\n",
       "      <th>arr_delay</th>\n",
       "      <th>carrier</th>\n",
       "      <th>flight</th>\n",
       "      <th>origin</th>\n",
       "      <th>dest</th>\n",
       "      <th>air_time</th>\n",
       "      <th>distance</th>\n",
       "      <th>hour</th>\n",
       "      <th>minute</th>\n",
       "      <th>time_hour</th>\n",
       "    </tr>\n",
       "  </thead>\n",
       "  <tbody>\n",
       "    <tr>\n",
       "      <th>0</th>\n",
       "      <td>2013</td>\n",
       "      <td>1</td>\n",
       "      <td>1</td>\n",
       "      <td>517.0</td>\n",
       "      <td>515</td>\n",
       "      <td>2.0</td>\n",
       "      <td>830.0</td>\n",
       "      <td>819</td>\n",
       "      <td>11.0</td>\n",
       "      <td>UA</td>\n",
       "      <td>1545</td>\n",
       "      <td>EWR</td>\n",
       "      <td>IAH</td>\n",
       "      <td>227.0</td>\n",
       "      <td>1400</td>\n",
       "      <td>5</td>\n",
       "      <td>15</td>\n",
       "      <td>2013-01-01T10:00:00Z</td>\n",
       "    </tr>\n",
       "    <tr>\n",
       "      <th>1</th>\n",
       "      <td>2013</td>\n",
       "      <td>1</td>\n",
       "      <td>1</td>\n",
       "      <td>533.0</td>\n",
       "      <td>529</td>\n",
       "      <td>4.0</td>\n",
       "      <td>850.0</td>\n",
       "      <td>830</td>\n",
       "      <td>20.0</td>\n",
       "      <td>UA</td>\n",
       "      <td>1714</td>\n",
       "      <td>LGA</td>\n",
       "      <td>IAH</td>\n",
       "      <td>227.0</td>\n",
       "      <td>1416</td>\n",
       "      <td>5</td>\n",
       "      <td>29</td>\n",
       "      <td>2013-01-01T10:00:00Z</td>\n",
       "    </tr>\n",
       "    <tr>\n",
       "      <th>2</th>\n",
       "      <td>2013</td>\n",
       "      <td>1</td>\n",
       "      <td>1</td>\n",
       "      <td>542.0</td>\n",
       "      <td>540</td>\n",
       "      <td>2.0</td>\n",
       "      <td>923.0</td>\n",
       "      <td>850</td>\n",
       "      <td>33.0</td>\n",
       "      <td>AA</td>\n",
       "      <td>1141</td>\n",
       "      <td>JFK</td>\n",
       "      <td>MIA</td>\n",
       "      <td>160.0</td>\n",
       "      <td>1089</td>\n",
       "      <td>5</td>\n",
       "      <td>40</td>\n",
       "      <td>2013-01-01T10:00:00Z</td>\n",
       "    </tr>\n",
       "    <tr>\n",
       "      <th>3</th>\n",
       "      <td>2013</td>\n",
       "      <td>1</td>\n",
       "      <td>1</td>\n",
       "      <td>544.0</td>\n",
       "      <td>545</td>\n",
       "      <td>-1.0</td>\n",
       "      <td>1004.0</td>\n",
       "      <td>1022</td>\n",
       "      <td>-18.0</td>\n",
       "      <td>B6</td>\n",
       "      <td>725</td>\n",
       "      <td>JFK</td>\n",
       "      <td>BQN</td>\n",
       "      <td>183.0</td>\n",
       "      <td>1576</td>\n",
       "      <td>5</td>\n",
       "      <td>45</td>\n",
       "      <td>2013-01-01T10:00:00Z</td>\n",
       "    </tr>\n",
       "    <tr>\n",
       "      <th>4</th>\n",
       "      <td>2013</td>\n",
       "      <td>1</td>\n",
       "      <td>1</td>\n",
       "      <td>554.0</td>\n",
       "      <td>600</td>\n",
       "      <td>-6.0</td>\n",
       "      <td>812.0</td>\n",
       "      <td>837</td>\n",
       "      <td>-25.0</td>\n",
       "      <td>DL</td>\n",
       "      <td>461</td>\n",
       "      <td>LGA</td>\n",
       "      <td>ATL</td>\n",
       "      <td>116.0</td>\n",
       "      <td>762</td>\n",
       "      <td>6</td>\n",
       "      <td>0</td>\n",
       "      <td>2013-01-01T11:00:00Z</td>\n",
       "    </tr>\n",
       "  </tbody>\n",
       "</table>\n",
       "</div>"
      ],
      "text/plain": [
       "   year  month  day  dep_time  sched_dep_time  dep_delay  arr_time  \\\n",
       "0  2013      1    1     517.0             515        2.0     830.0   \n",
       "1  2013      1    1     533.0             529        4.0     850.0   \n",
       "2  2013      1    1     542.0             540        2.0     923.0   \n",
       "3  2013      1    1     544.0             545       -1.0    1004.0   \n",
       "4  2013      1    1     554.0             600       -6.0     812.0   \n",
       "\n",
       "   sched_arr_time  arr_delay carrier  flight origin dest  air_time  distance  \\\n",
       "0             819       11.0      UA    1545    EWR  IAH     227.0      1400   \n",
       "1             830       20.0      UA    1714    LGA  IAH     227.0      1416   \n",
       "2             850       33.0      AA    1141    JFK  MIA     160.0      1089   \n",
       "3            1022      -18.0      B6     725    JFK  BQN     183.0      1576   \n",
       "4             837      -25.0      DL     461    LGA  ATL     116.0       762   \n",
       "\n",
       "   hour  minute             time_hour  \n",
       "0     5      15  2013-01-01T10:00:00Z  \n",
       "1     5      29  2013-01-01T10:00:00Z  \n",
       "2     5      40  2013-01-01T10:00:00Z  \n",
       "3     5      45  2013-01-01T10:00:00Z  \n",
       "4     6       0  2013-01-01T11:00:00Z  "
      ]
     },
     "execution_count": 5,
     "metadata": {},
     "output_type": "execute_result"
    }
   ],
   "source": [
    "flights.head()\n",
    "#Shows the first 5 flights in the data"
   ]
  },
  {
   "cell_type": "code",
   "execution_count": 6,
   "metadata": {},
   "outputs": [
    {
     "data": {
      "text/html": [
       "<div>\n",
       "<style scoped>\n",
       "    .dataframe tbody tr th:only-of-type {\n",
       "        vertical-align: middle;\n",
       "    }\n",
       "\n",
       "    .dataframe tbody tr th {\n",
       "        vertical-align: top;\n",
       "    }\n",
       "\n",
       "    .dataframe thead th {\n",
       "        text-align: right;\n",
       "    }\n",
       "</style>\n",
       "<table border=\"1\" class=\"dataframe\">\n",
       "  <thead>\n",
       "    <tr style=\"text-align: right;\">\n",
       "      <th></th>\n",
       "      <th>origin</th>\n",
       "      <th>year</th>\n",
       "      <th>month</th>\n",
       "      <th>day</th>\n",
       "      <th>hour</th>\n",
       "      <th>temp</th>\n",
       "      <th>dewp</th>\n",
       "      <th>humid</th>\n",
       "      <th>wind_dir</th>\n",
       "      <th>wind_speed</th>\n",
       "      <th>precip</th>\n",
       "      <th>visib</th>\n",
       "      <th>time_hour</th>\n",
       "    </tr>\n",
       "  </thead>\n",
       "  <tbody>\n",
       "    <tr>\n",
       "      <th>0</th>\n",
       "      <td>EWR</td>\n",
       "      <td>2013</td>\n",
       "      <td>1</td>\n",
       "      <td>1</td>\n",
       "      <td>1</td>\n",
       "      <td>39.02</td>\n",
       "      <td>26.06</td>\n",
       "      <td>59.37</td>\n",
       "      <td>270.0</td>\n",
       "      <td>10.35702</td>\n",
       "      <td>0.0</td>\n",
       "      <td>10.0</td>\n",
       "      <td>2013-01-01T06:00:00Z</td>\n",
       "    </tr>\n",
       "    <tr>\n",
       "      <th>1</th>\n",
       "      <td>EWR</td>\n",
       "      <td>2013</td>\n",
       "      <td>1</td>\n",
       "      <td>1</td>\n",
       "      <td>2</td>\n",
       "      <td>39.02</td>\n",
       "      <td>26.96</td>\n",
       "      <td>61.63</td>\n",
       "      <td>250.0</td>\n",
       "      <td>8.05546</td>\n",
       "      <td>0.0</td>\n",
       "      <td>10.0</td>\n",
       "      <td>2013-01-01T07:00:00Z</td>\n",
       "    </tr>\n",
       "    <tr>\n",
       "      <th>2</th>\n",
       "      <td>EWR</td>\n",
       "      <td>2013</td>\n",
       "      <td>1</td>\n",
       "      <td>1</td>\n",
       "      <td>3</td>\n",
       "      <td>39.02</td>\n",
       "      <td>28.04</td>\n",
       "      <td>64.43</td>\n",
       "      <td>240.0</td>\n",
       "      <td>11.50780</td>\n",
       "      <td>0.0</td>\n",
       "      <td>10.0</td>\n",
       "      <td>2013-01-01T08:00:00Z</td>\n",
       "    </tr>\n",
       "    <tr>\n",
       "      <th>3</th>\n",
       "      <td>EWR</td>\n",
       "      <td>2013</td>\n",
       "      <td>1</td>\n",
       "      <td>1</td>\n",
       "      <td>4</td>\n",
       "      <td>39.92</td>\n",
       "      <td>28.04</td>\n",
       "      <td>62.21</td>\n",
       "      <td>250.0</td>\n",
       "      <td>12.65858</td>\n",
       "      <td>0.0</td>\n",
       "      <td>10.0</td>\n",
       "      <td>2013-01-01T09:00:00Z</td>\n",
       "    </tr>\n",
       "    <tr>\n",
       "      <th>4</th>\n",
       "      <td>EWR</td>\n",
       "      <td>2013</td>\n",
       "      <td>1</td>\n",
       "      <td>1</td>\n",
       "      <td>5</td>\n",
       "      <td>39.02</td>\n",
       "      <td>28.04</td>\n",
       "      <td>64.43</td>\n",
       "      <td>260.0</td>\n",
       "      <td>12.65858</td>\n",
       "      <td>0.0</td>\n",
       "      <td>10.0</td>\n",
       "      <td>2013-01-01T10:00:00Z</td>\n",
       "    </tr>\n",
       "  </tbody>\n",
       "</table>\n",
       "</div>"
      ],
      "text/plain": [
       "  origin  year  month  day  hour   temp   dewp  humid  wind_dir  wind_speed  \\\n",
       "0    EWR  2013      1    1     1  39.02  26.06  59.37     270.0    10.35702   \n",
       "1    EWR  2013      1    1     2  39.02  26.96  61.63     250.0     8.05546   \n",
       "2    EWR  2013      1    1     3  39.02  28.04  64.43     240.0    11.50780   \n",
       "3    EWR  2013      1    1     4  39.92  28.04  62.21     250.0    12.65858   \n",
       "4    EWR  2013      1    1     5  39.02  28.04  64.43     260.0    12.65858   \n",
       "\n",
       "   precip  visib             time_hour  \n",
       "0     0.0   10.0  2013-01-01T06:00:00Z  \n",
       "1     0.0   10.0  2013-01-01T07:00:00Z  \n",
       "2     0.0   10.0  2013-01-01T08:00:00Z  \n",
       "3     0.0   10.0  2013-01-01T09:00:00Z  \n",
       "4     0.0   10.0  2013-01-01T10:00:00Z  "
      ]
     },
     "execution_count": 6,
     "metadata": {},
     "output_type": "execute_result"
    }
   ],
   "source": [
    "weather.head()\n",
    "#Shows the first 5 weather records"
   ]
  },
  {
   "cell_type": "markdown",
   "metadata": {},
   "source": [
    "### Creating a Complete Dataframe"
   ]
  },
  {
   "cell_type": "code",
   "execution_count": 7,
   "metadata": {},
   "outputs": [],
   "source": [
    "#Merges 'airlines' to 'flights' on 'carrier' to create a new, central dataframe 'data'\n",
    "data = pd.merge(flights,airlines, on=['carrier'])\n",
    "\n",
    "#Merges 'weather' to 'data' on 'year', 'month', 'day','hour', 'origin', and 'time_hour'\n",
    "data = pd.merge(data,weather,on=['year','month','day','hour','origin','time_hour'])"
   ]
  },
  {
   "cell_type": "markdown",
   "metadata": {},
   "source": [
    "#### Investigating the New Data"
   ]
  },
  {
   "cell_type": "code",
   "execution_count": 8,
   "metadata": {},
   "outputs": [
    {
     "data": {
      "text/html": [
       "<div>\n",
       "<style scoped>\n",
       "    .dataframe tbody tr th:only-of-type {\n",
       "        vertical-align: middle;\n",
       "    }\n",
       "\n",
       "    .dataframe tbody tr th {\n",
       "        vertical-align: top;\n",
       "    }\n",
       "\n",
       "    .dataframe thead th {\n",
       "        text-align: right;\n",
       "    }\n",
       "</style>\n",
       "<table border=\"1\" class=\"dataframe\">\n",
       "  <thead>\n",
       "    <tr style=\"text-align: right;\">\n",
       "      <th></th>\n",
       "      <th>year</th>\n",
       "      <th>month</th>\n",
       "      <th>day</th>\n",
       "      <th>dep_time</th>\n",
       "      <th>sched_dep_time</th>\n",
       "      <th>dep_delay</th>\n",
       "      <th>arr_time</th>\n",
       "      <th>sched_arr_time</th>\n",
       "      <th>arr_delay</th>\n",
       "      <th>flight</th>\n",
       "      <th>...</th>\n",
       "      <th>distance</th>\n",
       "      <th>hour</th>\n",
       "      <th>minute</th>\n",
       "      <th>temp</th>\n",
       "      <th>dewp</th>\n",
       "      <th>humid</th>\n",
       "      <th>wind_dir</th>\n",
       "      <th>wind_speed</th>\n",
       "      <th>precip</th>\n",
       "      <th>visib</th>\n",
       "    </tr>\n",
       "  </thead>\n",
       "  <tbody>\n",
       "    <tr>\n",
       "      <th>count</th>\n",
       "      <td>334504.0</td>\n",
       "      <td>334504.000000</td>\n",
       "      <td>334504.000000</td>\n",
       "      <td>326277.000000</td>\n",
       "      <td>334504.000000</td>\n",
       "      <td>326277.000000</td>\n",
       "      <td>325819.000000</td>\n",
       "      <td>334504.000000</td>\n",
       "      <td>325819.000000</td>\n",
       "      <td>334504.000000</td>\n",
       "      <td>...</td>\n",
       "      <td>334504.000000</td>\n",
       "      <td>334504.000000</td>\n",
       "      <td>334504.000000</td>\n",
       "      <td>334487.000000</td>\n",
       "      <td>334487.000000</td>\n",
       "      <td>334487.000000</td>\n",
       "      <td>326284.000000</td>\n",
       "      <td>334426.000000</td>\n",
       "      <td>334504.000000</td>\n",
       "      <td>334504.000000</td>\n",
       "    </tr>\n",
       "    <tr>\n",
       "      <th>mean</th>\n",
       "      <td>2013.0</td>\n",
       "      <td>6.531222</td>\n",
       "      <td>15.670799</td>\n",
       "      <td>1348.449079</td>\n",
       "      <td>1343.547620</td>\n",
       "      <td>12.614827</td>\n",
       "      <td>1501.811481</td>\n",
       "      <td>1535.996565</td>\n",
       "      <td>6.882788</td>\n",
       "      <td>1972.324836</td>\n",
       "      <td>...</td>\n",
       "      <td>1039.205986</td>\n",
       "      <td>13.173295</td>\n",
       "      <td>26.218081</td>\n",
       "      <td>56.988861</td>\n",
       "      <td>41.621846</td>\n",
       "      <td>59.552967</td>\n",
       "      <td>201.563117</td>\n",
       "      <td>11.114270</td>\n",
       "      <td>0.004553</td>\n",
       "      <td>9.256232</td>\n",
       "    </tr>\n",
       "    <tr>\n",
       "      <th>std</th>\n",
       "      <td>0.0</td>\n",
       "      <td>3.407633</td>\n",
       "      <td>8.742934</td>\n",
       "      <td>487.934433</td>\n",
       "      <td>467.034132</td>\n",
       "      <td>40.205979</td>\n",
       "      <td>532.175441</td>\n",
       "      <td>496.889093</td>\n",
       "      <td>44.662014</td>\n",
       "      <td>1632.724276</td>\n",
       "      <td>...</td>\n",
       "      <td>733.092556</td>\n",
       "      <td>4.658356</td>\n",
       "      <td>19.300181</td>\n",
       "      <td>17.962154</td>\n",
       "      <td>19.351869</td>\n",
       "      <td>19.655480</td>\n",
       "      <td>104.823918</td>\n",
       "      <td>5.575087</td>\n",
       "      <td>0.030933</td>\n",
       "      <td>2.027874</td>\n",
       "    </tr>\n",
       "    <tr>\n",
       "      <th>min</th>\n",
       "      <td>2013.0</td>\n",
       "      <td>1.000000</td>\n",
       "      <td>1.000000</td>\n",
       "      <td>1.000000</td>\n",
       "      <td>106.000000</td>\n",
       "      <td>-43.000000</td>\n",
       "      <td>1.000000</td>\n",
       "      <td>1.000000</td>\n",
       "      <td>-86.000000</td>\n",
       "      <td>1.000000</td>\n",
       "      <td>...</td>\n",
       "      <td>17.000000</td>\n",
       "      <td>1.000000</td>\n",
       "      <td>0.000000</td>\n",
       "      <td>10.940000</td>\n",
       "      <td>-9.940000</td>\n",
       "      <td>12.740000</td>\n",
       "      <td>0.000000</td>\n",
       "      <td>0.000000</td>\n",
       "      <td>0.000000</td>\n",
       "      <td>0.000000</td>\n",
       "    </tr>\n",
       "    <tr>\n",
       "      <th>25%</th>\n",
       "      <td>2013.0</td>\n",
       "      <td>4.000000</td>\n",
       "      <td>8.000000</td>\n",
       "      <td>907.000000</td>\n",
       "      <td>906.000000</td>\n",
       "      <td>-5.000000</td>\n",
       "      <td>1104.000000</td>\n",
       "      <td>1124.000000</td>\n",
       "      <td>-17.000000</td>\n",
       "      <td>553.000000</td>\n",
       "      <td>...</td>\n",
       "      <td>502.000000</td>\n",
       "      <td>9.000000</td>\n",
       "      <td>8.000000</td>\n",
       "      <td>42.080000</td>\n",
       "      <td>26.060000</td>\n",
       "      <td>43.990000</td>\n",
       "      <td>130.000000</td>\n",
       "      <td>6.904680</td>\n",
       "      <td>0.000000</td>\n",
       "      <td>10.000000</td>\n",
       "    </tr>\n",
       "    <tr>\n",
       "      <th>50%</th>\n",
       "      <td>2013.0</td>\n",
       "      <td>7.000000</td>\n",
       "      <td>16.000000</td>\n",
       "      <td>1400.000000</td>\n",
       "      <td>1359.000000</td>\n",
       "      <td>-2.000000</td>\n",
       "      <td>1535.000000</td>\n",
       "      <td>1556.000000</td>\n",
       "      <td>-5.000000</td>\n",
       "      <td>1496.000000</td>\n",
       "      <td>...</td>\n",
       "      <td>872.000000</td>\n",
       "      <td>13.000000</td>\n",
       "      <td>29.000000</td>\n",
       "      <td>57.200000</td>\n",
       "      <td>42.800000</td>\n",
       "      <td>57.730000</td>\n",
       "      <td>220.000000</td>\n",
       "      <td>10.357020</td>\n",
       "      <td>0.000000</td>\n",
       "      <td>10.000000</td>\n",
       "    </tr>\n",
       "    <tr>\n",
       "      <th>75%</th>\n",
       "      <td>2013.0</td>\n",
       "      <td>9.000000</td>\n",
       "      <td>23.000000</td>\n",
       "      <td>1744.000000</td>\n",
       "      <td>1729.000000</td>\n",
       "      <td>11.000000</td>\n",
       "      <td>1940.000000</td>\n",
       "      <td>1945.000000</td>\n",
       "      <td>14.000000</td>\n",
       "      <td>3466.000000</td>\n",
       "      <td>...</td>\n",
       "      <td>1389.000000</td>\n",
       "      <td>17.000000</td>\n",
       "      <td>44.000000</td>\n",
       "      <td>71.960000</td>\n",
       "      <td>57.920000</td>\n",
       "      <td>75.330000</td>\n",
       "      <td>290.000000</td>\n",
       "      <td>14.960140</td>\n",
       "      <td>0.000000</td>\n",
       "      <td>10.000000</td>\n",
       "    </tr>\n",
       "    <tr>\n",
       "      <th>max</th>\n",
       "      <td>2013.0</td>\n",
       "      <td>12.000000</td>\n",
       "      <td>31.000000</td>\n",
       "      <td>2400.000000</td>\n",
       "      <td>2359.000000</td>\n",
       "      <td>1301.000000</td>\n",
       "      <td>2400.000000</td>\n",
       "      <td>2359.000000</td>\n",
       "      <td>1272.000000</td>\n",
       "      <td>8500.000000</td>\n",
       "      <td>...</td>\n",
       "      <td>4983.000000</td>\n",
       "      <td>23.000000</td>\n",
       "      <td>59.000000</td>\n",
       "      <td>100.040000</td>\n",
       "      <td>78.080000</td>\n",
       "      <td>100.000000</td>\n",
       "      <td>360.000000</td>\n",
       "      <td>42.578860</td>\n",
       "      <td>1.210000</td>\n",
       "      <td>10.000000</td>\n",
       "    </tr>\n",
       "  </tbody>\n",
       "</table>\n",
       "<p>8 rows × 21 columns</p>\n",
       "</div>"
      ],
      "text/plain": [
       "           year          month            day       dep_time  sched_dep_time  \\\n",
       "count  334504.0  334504.000000  334504.000000  326277.000000   334504.000000   \n",
       "mean     2013.0       6.531222      15.670799    1348.449079     1343.547620   \n",
       "std         0.0       3.407633       8.742934     487.934433      467.034132   \n",
       "min      2013.0       1.000000       1.000000       1.000000      106.000000   \n",
       "25%      2013.0       4.000000       8.000000     907.000000      906.000000   \n",
       "50%      2013.0       7.000000      16.000000    1400.000000     1359.000000   \n",
       "75%      2013.0       9.000000      23.000000    1744.000000     1729.000000   \n",
       "max      2013.0      12.000000      31.000000    2400.000000     2359.000000   \n",
       "\n",
       "           dep_delay       arr_time  sched_arr_time      arr_delay  \\\n",
       "count  326277.000000  325819.000000   334504.000000  325819.000000   \n",
       "mean       12.614827    1501.811481     1535.996565       6.882788   \n",
       "std        40.205979     532.175441      496.889093      44.662014   \n",
       "min       -43.000000       1.000000        1.000000     -86.000000   \n",
       "25%        -5.000000    1104.000000     1124.000000     -17.000000   \n",
       "50%        -2.000000    1535.000000     1556.000000      -5.000000   \n",
       "75%        11.000000    1940.000000     1945.000000      14.000000   \n",
       "max      1301.000000    2400.000000     2359.000000    1272.000000   \n",
       "\n",
       "              flight  ...       distance           hour         minute  \\\n",
       "count  334504.000000  ...  334504.000000  334504.000000  334504.000000   \n",
       "mean     1972.324836  ...    1039.205986      13.173295      26.218081   \n",
       "std      1632.724276  ...     733.092556       4.658356      19.300181   \n",
       "min         1.000000  ...      17.000000       1.000000       0.000000   \n",
       "25%       553.000000  ...     502.000000       9.000000       8.000000   \n",
       "50%      1496.000000  ...     872.000000      13.000000      29.000000   \n",
       "75%      3466.000000  ...    1389.000000      17.000000      44.000000   \n",
       "max      8500.000000  ...    4983.000000      23.000000      59.000000   \n",
       "\n",
       "                temp           dewp          humid       wind_dir  \\\n",
       "count  334487.000000  334487.000000  334487.000000  326284.000000   \n",
       "mean       56.988861      41.621846      59.552967     201.563117   \n",
       "std        17.962154      19.351869      19.655480     104.823918   \n",
       "min        10.940000      -9.940000      12.740000       0.000000   \n",
       "25%        42.080000      26.060000      43.990000     130.000000   \n",
       "50%        57.200000      42.800000      57.730000     220.000000   \n",
       "75%        71.960000      57.920000      75.330000     290.000000   \n",
       "max       100.040000      78.080000     100.000000     360.000000   \n",
       "\n",
       "          wind_speed         precip          visib  \n",
       "count  334426.000000  334504.000000  334504.000000  \n",
       "mean       11.114270       0.004553       9.256232  \n",
       "std         5.575087       0.030933       2.027874  \n",
       "min         0.000000       0.000000       0.000000  \n",
       "25%         6.904680       0.000000      10.000000  \n",
       "50%        10.357020       0.000000      10.000000  \n",
       "75%        14.960140       0.000000      10.000000  \n",
       "max        42.578860       1.210000      10.000000  \n",
       "\n",
       "[8 rows x 21 columns]"
      ]
     },
     "execution_count": 8,
     "metadata": {},
     "output_type": "execute_result"
    }
   ],
   "source": [
    "data.describe()\n",
    "\n",
    "#Using the describe() method gives us a high level snapshot of what the data looks like.\n",
    "#It is useful for assessing the spread of the data, along with helping us to spot outliers by\n",
    "#looking at the max and min values, for example. From the below table, although there are some\n",
    "#extreme values (e.g. 1301 max dep_delay = approx. 22 hr delay), these are sensible given the \n",
    "#context."
   ]
  },
  {
   "cell_type": "code",
   "execution_count": 9,
   "metadata": {},
   "outputs": [
    {
     "data": {
      "text/plain": [
       "(334504, 26)"
      ]
     },
     "execution_count": 9,
     "metadata": {},
     "output_type": "execute_result"
    }
   ],
   "source": [
    "data.shape\n",
    "#The data contains 334,504 observations/rows, in this case flights, and 26 columns"
   ]
  },
  {
   "cell_type": "code",
   "execution_count": 10,
   "metadata": {},
   "outputs": [
    {
     "name": "stdout",
     "output_type": "stream",
     "text": [
      "Number of missing values in each column before cleaning:\n",
      "year                 0\n",
      "month                0\n",
      "day                  0\n",
      "dep_time          8227\n",
      "sched_dep_time       0\n",
      "dep_delay         8227\n",
      "arr_time          8685\n",
      "sched_arr_time       0\n",
      "arr_delay         8685\n",
      "carrier              0\n",
      "flight               0\n",
      "origin               0\n",
      "dest                 0\n",
      "air_time          8685\n",
      "distance             0\n",
      "hour                 0\n",
      "minute               0\n",
      "time_hour            0\n",
      "name                 0\n",
      "temp                17\n",
      "dewp                17\n",
      "humid               17\n",
      "wind_dir          8220\n",
      "wind_speed          78\n",
      "precip               0\n",
      "visib                0\n",
      "dtype: int64\n",
      "\n",
      "\n",
      "Proportion of missing values in the data before cleaning: 0.58% (2dp)\n"
     ]
    }
   ],
   "source": [
    "# Missing data can often invalidate our analysis or make it more difficult, so\n",
    "#it is important to know how significant its presence in the data is\n",
    "\n",
    "print(\"Number of missing values in each column before cleaning:\")\n",
    "print(data.isnull().sum()) #Shows the total number of missing values in each column\n",
    "print(\"\\n\")\n",
    "\n",
    "missing_values = sum(data.isnull().sum())\n",
    "total_values = np.product(data.shape)\n",
    "missing_proportion = (missing_values/total_values) * 100\n",
    "print(\"Proportion of missing values in the data before cleaning: \" + \n",
    "      \"{:.2f}\".format(missing_proportion) + \"% (2dp)\")\n",
    "\n",
    "# Before cleaning the data, the number of missing values as a proportion of \n",
    "#the whole dataset is only 0.58%. We can therefore remove these datapoints\n",
    "#without significantly impacting the integrity of our data."
   ]
  },
  {
   "cell_type": "code",
   "execution_count": 11,
   "metadata": {},
   "outputs": [],
   "source": [
    "data = data.dropna()\n",
    "#Dropping the missing values"
   ]
  },
  {
   "cell_type": "markdown",
   "metadata": {},
   "source": [
    "### **Feature Addition/Manipulation**"
   ]
  },
  {
   "cell_type": "code",
   "execution_count": 12,
   "metadata": {},
   "outputs": [],
   "source": [
    "#Changing the 'hour' column names#\n",
    "#To make it clear that the 'hour' column corresponds to the departure hour (and not the arrival hour)\n",
    "data[['dep_time','hour']]\n",
    "data = data.rename(columns={\"hour\": \"dep_hour\"})\n",
    "\n",
    "#I also convert the column to be categorical\n",
    "data['dep_hour'] = np.where(data['dep_hour'] >= 12, 1, 0)\n",
    "#Flights departing in the AM = 0, Flights departing in the PM = 1"
   ]
  },
  {
   "cell_type": "code",
   "execution_count": 13,
   "metadata": {},
   "outputs": [
    {
     "name": "stdout",
     "output_type": "stream",
     "text": [
      "No. of arrival delays > 15 min: 75245\n",
      "No. of departure delays > 15 min: 68196\n"
     ]
    }
   ],
   "source": [
    "#Comparing arr_delay > 15 min vs dep_delay > 15 min#\n",
    "print(\"No. of arrival delays > 15 min: \" + str(data[data['arr_delay']>15].shape[0]))\n",
    "print(\"No. of departure delays > 15 min: \" + str(data[data['dep_delay']>15].shape[0]))"
   ]
  },
  {
   "cell_type": "code",
   "execution_count": 14,
   "metadata": {},
   "outputs": [],
   "source": [
    "#Creating the 'delayed' column\n",
    "data['delayed'] = np.where(data['arr_delay'] > 15,1,0)\n",
    "# = 1 if arrival delay is more than 15 min, = 0 otherwise"
   ]
  },
  {
   "cell_type": "markdown",
   "metadata": {},
   "source": [
    "### Checking Final Data Form"
   ]
  },
  {
   "cell_type": "code",
   "execution_count": 15,
   "metadata": {},
   "outputs": [
    {
     "name": "stdout",
     "output_type": "stream",
     "text": [
      "Number of missing values in each column before cleaning:\n",
      "year              0\n",
      "month             0\n",
      "day               0\n",
      "dep_time          0\n",
      "sched_dep_time    0\n",
      "dep_delay         0\n",
      "arr_time          0\n",
      "sched_arr_time    0\n",
      "arr_delay         0\n",
      "carrier           0\n",
      "flight            0\n",
      "origin            0\n",
      "dest              0\n",
      "air_time          0\n",
      "distance          0\n",
      "dep_hour          0\n",
      "minute            0\n",
      "time_hour         0\n",
      "name              0\n",
      "temp              0\n",
      "dewp              0\n",
      "humid             0\n",
      "wind_dir          0\n",
      "wind_speed        0\n",
      "precip            0\n",
      "visib             0\n",
      "delayed           0\n",
      "dtype: int64\n",
      "\n",
      "\n",
      "Proportion of missing values in the data after cleaning: 0.00% (2dp)\n"
     ]
    }
   ],
   "source": [
    "print(\"Number of missing values in each column before cleaning:\")\n",
    "print(data.isnull().sum())\n",
    "print(\"\\n\")\n",
    "\n",
    "missing_values = sum(data.isnull().sum())\n",
    "total_values = np.product(data.shape)\n",
    "missing_proportion = (missing_values/total_values) * 100\n",
    "print(\"Proportion of missing values in the data after cleaning: \" + \n",
    "      \"{:.2f}\".format(missing_proportion) + \"% (2dp)\")\n",
    "\n",
    "#We have removed all missing data"
   ]
  },
  {
   "cell_type": "code",
   "execution_count": 16,
   "metadata": {},
   "outputs": [
    {
     "data": {
      "text/plain": [
       "Index(['year', 'month', 'day', 'dep_time', 'sched_dep_time', 'dep_delay',\n",
       "       'arr_time', 'sched_arr_time', 'arr_delay', 'carrier', 'flight',\n",
       "       'origin', 'dest', 'air_time', 'distance', 'dep_hour', 'minute',\n",
       "       'time_hour', 'name', 'temp', 'dewp', 'humid', 'wind_dir', 'wind_speed',\n",
       "       'precip', 'visib', 'delayed'],\n",
       "      dtype='object')"
      ]
     },
     "execution_count": 16,
     "metadata": {},
     "output_type": "execute_result"
    }
   ],
   "source": [
    "#Cleaned dataframe columns\n",
    "data.columns"
   ]
  },
  {
   "cell_type": "code",
   "execution_count": 17,
   "metadata": {},
   "outputs": [
    {
     "data": {
      "text/plain": [
       "(317755, 27)"
      ]
     },
     "execution_count": 17,
     "metadata": {},
     "output_type": "execute_result"
    }
   ],
   "source": [
    "data.shape\n",
    "#The cleaned dataframe contains 317,755 observations and 27 columns"
   ]
  },
  {
   "cell_type": "markdown",
   "metadata": {},
   "source": [
    "# 2. Data Visualisation"
   ]
  },
  {
   "cell_type": "markdown",
   "metadata": {},
   "source": [
    "Here I visualise a select group of key features ('dep_hour', 'visib', 'month', 'temp', 'minute', 'carrier', 'wind_speed'), in the context of the newly created delayed"
   ]
  },
  {
   "cell_type": "code",
   "execution_count": 18,
   "metadata": {},
   "outputs": [
    {
     "data": {
      "image/png": "[encoded data removed]",
      "text/plain": [
       "<Figure size 1080x432 with 1 Axes>"
      ]
     },
     "metadata": {
      "needs_background": "light"
     },
     "output_type": "display_data"
    }
   ],
   "source": [
    "plt.figure(figsize=(15,6))\n",
    "plt.title(\"Delayed vs Departure Hour\")\n",
    "sns.barplot(data['dep_hour'],data['delayed'])\n",
    "plt.show()\n",
    "\n",
    "#Flights that depart after 12pm are delayed at a greater rate, on average"
   ]
  },
  {
   "cell_type": "code",
   "execution_count": 19,
   "metadata": {},
   "outputs": [
    {
     "data": {
      "image/png": "[encoded data removed]",
      "text/plain": [
       "<Figure size 1080x432 with 1 Axes>"
      ]
     },
     "metadata": {
      "needs_background": "light"
     },
     "output_type": "display_data"
    }
   ],
   "source": [
    "plt.figure(figsize=(15,6))\n",
    "plt.title(\"Delayed vs Visibility\")\n",
    "sns.barplot(data['visib'],data['delayed'])\n",
    "plt.show()\n",
    "\n",
    "#Unsurprisingly, flights that go through airspace with low visibility are delayed at a greater rate, on average"
   ]
  },
  {
   "cell_type": "code",
   "execution_count": 20,
   "metadata": {},
   "outputs": [
    {
     "data": {
      "image/png": "[encoded data removed]",
      "text/plain": [
       "<Figure size 1080x432 with 1 Axes>"
      ]
     },
     "metadata": {
      "needs_background": "light"
     },
     "output_type": "display_data"
    }
   ],
   "source": [
    "plt.figure(figsize=(15,6))\n",
    "plt.title(\"Delayed vs Month\")\n",
    "sns.barplot(data['month'],data['delayed'])\n",
    "plt.show()\n",
    "\n",
    "#Flights in the most popular months (summer period and Christmas) are delayed at a greater rate, on average"
   ]
  },
  {
   "cell_type": "code",
   "execution_count": 21,
   "metadata": {},
   "outputs": [
    {
     "data": {
      "image/png": "[encoded data removed]",
      "text/plain": [
       "<Figure size 1080x432 with 1 Axes>"
      ]
     },
     "metadata": {
      "needs_background": "light"
     },
     "output_type": "display_data"
    }
   ],
   "source": [
    "plt.figure(figsize=(15,6))\n",
    "plt.title(\"Delayed vs Temperature\")\n",
    "sns.lineplot(data['temp'],data['delayed'])\n",
    "plt.show()\n",
    "\n",
    "#Delays tend to occur when temperatures are extreme"
   ]
  },
  {
   "cell_type": "code",
   "execution_count": 22,
   "metadata": {},
   "outputs": [
    {
     "data": {
      "image/png": "[encoded data removed]",
      "text/plain": [
       "<Figure size 1080x432 with 1 Axes>"
      ]
     },
     "metadata": {
      "needs_background": "light"
     },
     "output_type": "display_data"
    }
   ],
   "source": [
    "plt.figure(figsize=(15,6))\n",
    "plt.title(\"Delayed vs Minute of Departure\")\n",
    "sns.barplot(data['minute'],data['delayed'])\n",
    "plt.show()\n",
    "\n",
    "#There is no clear relationship between delays and and the minute of departure"
   ]
  },
  {
   "cell_type": "code",
   "execution_count": 23,
   "metadata": {},
   "outputs": [
    {
     "data": {
      "image/png": "[encoded data removed]",
      "text/plain": [
       "<Figure size 1080x432 with 1 Axes>"
      ]
     },
     "metadata": {
      "needs_background": "light"
     },
     "output_type": "display_data"
    }
   ],
   "source": [
    "plt.figure(figsize=(15,6))\n",
    "plt.title(\"Delayed vs Carrier\")\n",
    "sns.barplot(data['carrier'],data['delayed'])\n",
    "plt.show()\n",
    "\n",
    "#Flights with ExpressJet Airlines, AirTran Airlines, Frontier Airlines, and Mesa Airlines \n",
    "#are delayed at a greater rate, on average"
   ]
  },
  {
   "cell_type": "code",
   "execution_count": 24,
   "metadata": {},
   "outputs": [
    {
     "data": {
      "image/png": "[encoded data removed]",
      "text/plain": [
       "<Figure size 1080x432 with 1 Axes>"
      ]
     },
     "metadata": {
      "needs_background": "light"
     },
     "output_type": "display_data"
    }
   ],
   "source": [
    "plt.figure(figsize=(15,6))\n",
    "plt.title(\"Delayed vs Wind Speed\")\n",
    "sns.lineplot(data['wind_speed'],data['delayed'])\n",
    "plt.show()\n",
    "\n",
    "#Flights that go through airspace with high wind speeds are delayed at a greater rate, on average"
   ]
  },
  {
   "cell_type": "markdown",
   "metadata": {},
   "source": [
    "# 3. Prediction"
   ]
  },
  {
   "cell_type": "markdown",
   "metadata": {},
   "source": [
    "### Filtering Out Unused Columns"
   ]
  },
  {
   "cell_type": "code",
   "execution_count": 25,
   "metadata": {},
   "outputs": [],
   "source": [
    "#Specifiying the columns to drop from the data\n",
    "to_drop = ['year','carrier','flight','origin','dest','time_hour','name']\n",
    "data_cols = list(data.columns)\n",
    "\n",
    "for col in to_drop:\n",
    "    data_cols.remove(col)\n",
    "    \n",
    "#Dropping the columns specified above from the data\n",
    "data = data[[i for i in data_cols]]"
   ]
  },
  {
   "cell_type": "markdown",
   "metadata": {},
   "source": [
    "### **Class Balance Inspection**"
   ]
  },
  {
   "cell_type": "code",
   "execution_count": 26,
   "metadata": {},
   "outputs": [
    {
     "name": "stdout",
     "output_type": "stream",
     "text": [
      "Delayed: 23.68%\n",
      "Not delayed: 76.32%\n"
     ]
    }
   ],
   "source": [
    "#Here I inspect the balance between the two classes in the data. \n",
    "not_delayed = data['delayed'].value_counts()[0]\n",
    "delayed = data['delayed'].value_counts()[1]\n",
    "\n",
    "delayed_share = (delayed/data.shape[0])*100\n",
    "not_delayed_share = (not_delayed/data.shape[0])*100\n",
    "\n",
    "class_shares = {'Delayed':delayed_share,'Not delayed':not_delayed_share}\n",
    "\n",
    "for share in class_shares:\n",
    "    print(share + \": \" + \"{:.2f}\".format(class_shares[share]) + \"%\")\n",
    "    \n",
    "#We observe a greater share of flight that are not delayed than those that are delayed. \n",
    "#This class imbalance is therefore something we must be aware of - it may impact\n",
    "#the performance of our predictive model."
   ]
  },
  {
   "cell_type": "code",
   "execution_count": 27,
   "metadata": {},
   "outputs": [],
   "source": [
    "#Undersampling to combat imbalance#\n",
    "#Here I increase the representation of delayed flights by selecting\n",
    "#a smaller number of not delayed flights to be included in the dataset.\n",
    "#This increases the class balance as we can see below.\n",
    "not_delayed_data = data[data['delayed']==0].sample(data[data['delayed']==1].shape[0])\n",
    "delayed_data = data[data['delayed']==1]\n",
    "data_final = delayed_data.append(not_delayed_data)"
   ]
  },
  {
   "cell_type": "code",
   "execution_count": 28,
   "metadata": {},
   "outputs": [
    {
     "data": {
      "text/plain": [
       "(150490, 20)"
      ]
     },
     "execution_count": 28,
     "metadata": {},
     "output_type": "execute_result"
    }
   ],
   "source": [
    "data_final.shape\n",
    "#The dataframe containg the final input features 150,490 observations and 20 columns"
   ]
  },
  {
   "cell_type": "code",
   "execution_count": 29,
   "metadata": {},
   "outputs": [
    {
     "name": "stdout",
     "output_type": "stream",
     "text": [
      "Delayed: 50.00%\n",
      "Not delayed: 50.00%\n",
      "\n",
      "Not Delayed (0) vs Delayed (1) Counts\n",
      "0    75245\n",
      "1    75245\n",
      "Name: delayed, dtype: int64\n"
     ]
    }
   ],
   "source": [
    "not_delayed = data_final['delayed'].value_counts()[0]\n",
    "delayed = data_final['delayed'].value_counts()[1]\n",
    "\n",
    "delayed_share = (delayed/data_final.shape[0])*100\n",
    "not_delayed_share = (not_delayed/data_final.shape[0])*100\n",
    "\n",
    "class_shares = {'Delayed':delayed_share,'Not delayed':not_delayed_share}\n",
    "\n",
    "for share in class_shares:\n",
    "    print(share + \": \" + \"{:.2f}\".format(class_shares[share]) + \"%\")\n",
    "    \n",
    "print('')\n",
    "print('Not Delayed (0) vs Delayed (1) Counts')\n",
    "print(data_final['delayed'].value_counts())\n",
    "\n",
    "#After undersampling, we now have an even split of classes"
   ]
  },
  {
   "cell_type": "code",
   "execution_count": 30,
   "metadata": {},
   "outputs": [],
   "source": [
    "#Splitting into X and y data#\n",
    "#The X data contains only the input features\n",
    "X = data_final.iloc[:,1:len(data_final.columns)-1]\n",
    "\n",
    "#The y data contains the output features or labels\n",
    "y = data_final['delayed']"
   ]
  },
  {
   "cell_type": "code",
   "execution_count": 31,
   "metadata": {},
   "outputs": [],
   "source": [
    "from sklearn.model_selection import train_test_split\n",
    "X_train, X_test, y_train, y_test = train_test_split(X, y, test_size=0.25, random_state=42)\n",
    "\n",
    "#Here, the data is split into train and test data (75%/25% split)"
   ]
  },
  {
   "cell_type": "markdown",
   "metadata": {},
   "source": [
    "### Building the Logistic Classifier"
   ]
  },
  {
   "cell_type": "code",
   "execution_count": 32,
   "metadata": {},
   "outputs": [
    {
     "name": "stderr",
     "output_type": "stream",
     "text": [
      "/Users/aashrit/anaconda3/lib/python3.7/site-packages/sklearn/linear_model/logistic.py:432: FutureWarning: Default solver will be changed to 'lbfgs' in 0.22. Specify a solver to silence this warning.\n",
      "  FutureWarning)\n"
     ]
    },
    {
     "name": "stdout",
     "output_type": "stream",
     "text": [
      "Training Accuracy: 99.67% (2dp)\n"
     ]
    }
   ],
   "source": [
    "from sklearn.linear_model import LogisticRegression\n",
    "\n",
    "model = LogisticRegression()\n",
    "model.fit(X_train,y_train)\n",
    "pred = model.predict(X_train)\n",
    "\n",
    "misclassifications = sum((y_train - pred)**2)\n",
    "total_predictions = len(pred)\n",
    "total_predictions\n",
    "accuracy = 100 - ((misclassifications/total_predictions) * 100)\n",
    "\n",
    "print(\"Training Accuracy: \" + \"{:.2f}\".format(accuracy) + \"% (2dp)\")"
   ]
  },
  {
   "cell_type": "code",
   "execution_count": 33,
   "metadata": {},
   "outputs": [
    {
     "name": "stdout",
     "output_type": "stream",
     "text": [
      "Test Accuracy: 99.64% (2dp)\n"
     ]
    }
   ],
   "source": [
    "pred = model.predict(X_test)\n",
    "\n",
    "misclassifications = sum((y_test - pred)**2)\n",
    "total_predictions = len(pred)\n",
    "total_predictions\n",
    "accuracy = 100 - ((misclassifications/total_predictions) * 100)\n",
    "\n",
    "print(\"Test Accuracy: \" + \"{:.2f}\".format(accuracy) + \"% (2dp)\")\n",
    "\n",
    "#We observe a test accuracy of 99.6%"
   ]
  },
  {
   "cell_type": "markdown",
   "metadata": {},
   "source": [
    "### Evaluating the Model"
   ]
  },
  {
   "cell_type": "code",
   "execution_count": 34,
   "metadata": {},
   "outputs": [
    {
     "name": "stdout",
     "output_type": "stream",
     "text": [
      "[[18745    50]\n",
      " [   87 18741]]\n"
     ]
    }
   ],
   "source": [
    "#Confusion matrix#\n",
    "from sklearn.metrics import confusion_matrix\n",
    "print(confusion_matrix(pred,y_test))\n",
    "\n",
    "#The confusion matrix shows us how many correct and incorrect\n",
    "#classifications we have made. The correct classifications \n",
    "#(true positive, true negative) lie along the diagonal, whilst\n",
    "#the incorrect classifications (false positive, false negative) lie along the off-diagonal"
   ]
  },
  {
   "cell_type": "code",
   "execution_count": 35,
   "metadata": {},
   "outputs": [
    {
     "name": "stdout",
     "output_type": "stream",
     "text": [
      "Recall: 99.54% (2dp)\n"
     ]
    }
   ],
   "source": [
    "from sklearn.metrics import recall_score\n",
    "print(\"Recall: \" + \"{:.2f}\".format(recall_score(pred,y_test)*100) + \"% (2dp)\")\n",
    "\n",
    "#Recall indicates the ability of the classifier to find all the positive samples.\n",
    "#A recall score that is close to 1 is optimal."
   ]
  },
  {
   "cell_type": "markdown",
   "metadata": {},
   "source": [
    "# 4. Recommendations"
   ]
  },
  {
   "cell_type": "code",
   "execution_count": 36,
   "metadata": {},
   "outputs": [],
   "source": [
    "#Function to determine the p-values for each coefficient#\n",
    "#Sklearn does not natively support this functionality\n",
    "#Reference:\n",
    "#https://stackoverflow.com/questions/25122999/scikit-learn-how-to-check-coefficients-significance\n",
    "\n",
    "from scipy.stats import norm\n",
    "\n",
    "def logit_pvalue(model, x):\n",
    "    \"\"\" Calculate z-scores for scikit-learn LogisticRegression.\n",
    "    parameters:\n",
    "        model: fitted sklearn.linear_model.LogisticRegression with intercept and large C\n",
    "        x:     matrix on which the model was fit\n",
    "    This function uses asymtptics for maximum likelihood estimates.\n",
    "    \"\"\"\n",
    "    p = model.predict_proba(x)\n",
    "    n = len(p)\n",
    "    m = len(model.coef_[0]) + 1\n",
    "    coefs = np.concatenate([model.intercept_, model.coef_[0]])\n",
    "    x_full = np.matrix(np.insert(np.array(x), 0, 1, axis = 1))\n",
    "    ans = np.zeros((m, m))\n",
    "    for i in range(n):\n",
    "        ans = ans + np.dot(np.transpose(x_full[i, :]), x_full[i, :]) * p[i,1] * p[i, 0]\n",
    "    vcov = np.linalg.inv(np.matrix(ans))\n",
    "    se = np.sqrt(np.diag(vcov))\n",
    "    t =  coefs/se  \n",
    "    p = (1 - norm.cdf(abs(t))) * 2\n",
    "    return p"
   ]
  },
  {
   "cell_type": "code",
   "execution_count": 37,
   "metadata": {},
   "outputs": [],
   "source": [
    "#Creating the list of input features to display the coefficients and statistical significance for\n",
    "features = list(data.columns)\n",
    "features.remove('delayed') #We remove 'delayed' as this is our output feature/label"
   ]
  },
  {
   "cell_type": "code",
   "execution_count": 38,
   "metadata": {},
   "outputs": [
    {
     "name": "stderr",
     "output_type": "stream",
     "text": [
      "/Users/aashrit/anaconda3/lib/python3.7/site-packages/sklearn/linear_model/logistic.py:432: FutureWarning: Default solver will be changed to 'lbfgs' in 0.22. Specify a solver to silence this warning.\n",
      "  FutureWarning)\n"
     ]
    },
    {
     "name": "stdout",
     "output_type": "stream",
     "text": [
      "Coefficients and Statistical Significance:\n",
      "\n",
      "month - Coefficient: -0.02, p-value: 0.948\n",
      "day - Coefficient: -0.00, p-value: 0.002 ***\n",
      "dep_time - Coefficient: 0.00, p-value: 0.210\n",
      "sched_dep_time - Coefficient: 0.00, p-value: 0.393\n",
      "dep_delay - Coefficient: -0.00, p-value: 0.779\n",
      "arr_time - Coefficient: 0.00, p-value: 0.071\n",
      "sched_arr_time - Coefficient: 2.17, p-value: 0.878\n",
      "arr_delay - Coefficient: -0.01, p-value: 0.000 ***\n",
      "air_time - Coefficient: 0.00, p-value: 0.000 ***\n",
      "distance - Coefficient: 0.07, p-value: 0.000 ***\n",
      "dep_hour - Coefficient: -0.00, p-value: 0.716\n",
      "minute - Coefficient: -0.58, p-value: 0.972\n",
      "temp - Coefficient: 0.62, p-value: 0.000 ***\n",
      "dewp - Coefficient: -0.32, p-value: 0.000 ***\n",
      "humid - Coefficient: -0.00, p-value: 0.000 ***\n",
      "wind_dir - Coefficient: -0.00, p-value: 0.167\n",
      "wind_speed - Coefficient: 0.00, p-value: 0.761\n",
      "precip - Coefficient: -0.52, p-value: 0.998\n"
     ]
    },
    {
     "ename": "IndexError",
     "evalue": "index 18 is out of bounds for axis 0 with size 18",
     "output_type": "error",
     "traceback": [
      "\u001b[0;31m---------------------------------------------------------------------------\u001b[0m",
      "\u001b[0;31mIndexError\u001b[0m                                Traceback (most recent call last)",
      "\u001b[0;32m<ipython-input-38-ed3db850d7b3>\u001b[0m in \u001b[0;36m<module>\u001b[0;34m\u001b[0m\n\u001b[1;32m     14\u001b[0m \u001b[0;34m\u001b[0m\u001b[0m\n\u001b[1;32m     15\u001b[0m \u001b[0;32mfor\u001b[0m \u001b[0mi\u001b[0m \u001b[0;32min\u001b[0m \u001b[0mrange\u001b[0m\u001b[0;34m(\u001b[0m\u001b[0mlen\u001b[0m\u001b[0;34m(\u001b[0m\u001b[0mfeatures\u001b[0m\u001b[0;34m)\u001b[0m\u001b[0;34m)\u001b[0m\u001b[0;34m:\u001b[0m\u001b[0;34m\u001b[0m\u001b[0;34m\u001b[0m\u001b[0m\n\u001b[0;32m---> 16\u001b[0;31m     \u001b[0mcoefficients\u001b[0m\u001b[0;34m[\u001b[0m\u001b[0mfeatures\u001b[0m\u001b[0;34m[\u001b[0m\u001b[0mi\u001b[0m\u001b[0;34m]\u001b[0m\u001b[0;34m]\u001b[0m \u001b[0;34m=\u001b[0m \u001b[0;34m[\u001b[0m\u001b[0;34m\"Coefficient\"\u001b[0m\u001b[0;34m,\u001b[0m\u001b[0mmodel\u001b[0m\u001b[0;34m.\u001b[0m\u001b[0mcoef_\u001b[0m\u001b[0;34m[\u001b[0m\u001b[0;36m0\u001b[0m\u001b[0;34m]\u001b[0m\u001b[0;34m[\u001b[0m\u001b[0mi\u001b[0m\u001b[0;34m]\u001b[0m\u001b[0;34m,\u001b[0m\u001b[0;34m\"p-value: \"\u001b[0m\u001b[0;34m,\u001b[0m\u001b[0mp_vals\u001b[0m\u001b[0;34m[\u001b[0m\u001b[0mi\u001b[0m\u001b[0;34m]\u001b[0m\u001b[0;34m]\u001b[0m\u001b[0;34m\u001b[0m\u001b[0;34m\u001b[0m\u001b[0m\n\u001b[0m\u001b[1;32m     17\u001b[0m     \u001b[0;32mif\u001b[0m \u001b[0;36m0.01\u001b[0m \u001b[0;34m<=\u001b[0m \u001b[0mcoefficients\u001b[0m\u001b[0;34m[\u001b[0m\u001b[0mfeatures\u001b[0m\u001b[0;34m[\u001b[0m\u001b[0mi\u001b[0m\u001b[0;34m]\u001b[0m\u001b[0;34m]\u001b[0m\u001b[0;34m[\u001b[0m\u001b[0;36m3\u001b[0m\u001b[0;34m]\u001b[0m \u001b[0;34m<\u001b[0m \u001b[0;36m0.05\u001b[0m\u001b[0;34m:\u001b[0m \u001b[0;31m#Statistically significant at 5%\u001b[0m\u001b[0;34m\u001b[0m\u001b[0;34m\u001b[0m\u001b[0m\n\u001b[1;32m     18\u001b[0m         print(features[i] + \" - Coefficient: \" + \"{:.2f}\".format(coefficients[features[i]][1]) \n",
      "\u001b[0;31mIndexError\u001b[0m: index 18 is out of bounds for axis 0 with size 18"
     ]
    }
   ],
   "source": [
    "from sklearn.linear_model import LogisticRegression\n",
    "\n",
    "#Building and fitting the logistic regression model\n",
    "model = LogisticRegression()\n",
    "model.fit(X,y)\n",
    "model.coef_\n",
    "\n",
    "p_vals = list(logit_pvalue(model,X))\n",
    "\n",
    "coefficients = {}\n",
    "\n",
    "print(\"Coefficients and Statistical Significance:\")\n",
    "print(\"\")\n",
    "\n",
    "for i in range(len(features)):\n",
    "    coefficients[features[i]] = [\"Coefficient\",model.coef_[0][i],\"p-value: \",p_vals[i]]\n",
    "    if 0.01 <= coefficients[features[i]][3] < 0.05: #Statistically significant at 5%\n",
    "        print(features[i] + \" - Coefficient: \" + \"{:.2f}\".format(coefficients[features[i]][1]) \n",
    "              + \", p-value: \" + \"{:.3f}\".format(p_vals[i])+\" *\")\n",
    "    elif 0.005 < coefficients[features[i]][3] < 0.01: #Statistically significant at 1%\n",
    "        print(features[i] + \" - Coefficient: \" + \"{:.2f}\".format(coefficients[features[i]][1]) \n",
    "              + \", p-value: \" + \"{:.3f}\".format(p_vals[i])+\" **\")\n",
    "    elif coefficients[features[i]][3] <= 0.005: #Statistically significant at 0.5%\n",
    "        print(features[i] + \" - Coefficient: \" + \"{:.2f}\".format(coefficients[features[i]][1]) \n",
    "              + \", p-value: \" + \"{:.3f}\".format(p_vals[i])+\" ***\")\n",
    "    else:\n",
    "        print(features[i] + \" - Coefficient: \" + \"{:.2f}\".format(coefficients[features[i]][1]) \n",
    "              + \", p-value: \" + \"{:.3f}\".format(p_vals[i]))\n",
    "        \n",
    "        \n",
    "#I am unsure as to why the model fails to include the final feature 'visib' thus raising this error"
   ]
  },
  {
   "cell_type": "code",
   "execution_count": null,
   "metadata": {},
   "outputs": [],
   "source": [
    "import math\n",
    "\n",
    "coefficients_odds = coefficients\n",
    "\n",
    "for i in coefficients_odds:\n",
    "    coefficients_odds[i][1] =  math.exp(coefficients[i][1])\n",
    "    #We take the exponential of the log odds above to find the odds multiplier\n",
    "    #as this is easier to interpret\n",
    "    print(i + \" odds multiplier: \" + \"{:.2f}\".format(coefficients_odds[i][1]))"
   ]
  },
  {
   "cell_type": "markdown",
   "metadata": {},
   "source": [
    "### Interpretations & Recommendations"
   ]
  },
  {
   "cell_type": "markdown",
   "metadata": {},
   "source": [
    "Here, I consider the 3 features that are both statistically significant and have a substantial odds multiplier\n",
    "\n",
    "***Feature (Odds multiple, Significance Level)***\n",
    "\n",
    "***Temperature (1.53, 0.5%)***\n",
    "\n",
    "* Interpretation: As the temperature increases by 1 degree, the odds of delay increase by 53%\n",
    "* This is because, as temperature increases, the lower the air density and therefore the lower the lift. Delays may therefore be likely to occur as planes end up flying slower in hot conditions. (https://theconversation.com/how-hot-weather-and-climate-change-affect-airline-flights-80795#:~:text=High%20air%20temperatures%20affect%20the,the%20density%20of%20the%20air.)\n",
    "* Recommendation: Plan to use routes that have conditions that would be conducive to the flight of the plane (where possible). Take actions to reduce plane temperature whilst in flight.\n",
    "\n",
    "***Dew Point (0.80, 0.5%)***\n",
    "\n",
    "* Interpretation: As the dew point increases by 1 unit, the odds of delay decrease by 20%\n",
    "* Higher dew points mean that not much cooling is needed to create fog or clouds. This can reduce visibility thus causing delays\n",
    "* Recommendation: Plan to use routes where dew points are likely to be lower, although the dew point also needs to be considered in relation to the temperature since \"If the dewpoint is the same or higher than the current temperature, then dew (or fog) will occur.\" (https://www.sunnysports.com/blog/relationship-temperature-humidity-dewpoint/)\n",
    "\n",
    "***Distance (1.03, 5%)***\n",
    "\n",
    "* Interpretation: As the distance increases by 1 unit, the odds of delay increase by 3%\n",
    "* Recommendation: For regional airlines, this is unlikely to be a problem as most offerings will be short-haul. In the case of international airlines, offering connecting flights in the case of long-haul flights will help to reduce the chances of a delay.\n"
   ]
  },
  {
   "cell_type": "markdown",
   "metadata": {},
   "source": [
    "# 5. Future Analysis Extensions"
   ]
  },
  {
   "cell_type": "markdown",
   "metadata": {},
   "source": [
    "* Consider type of airline (regional vs international) - do delays depend on the business model employed?\n",
    "* Consider origin and dest - are delays more common for certain airports? Is this due to certain characteristics of the airport itself, the weather in that location, or do only certain (poorly organised) airlines fly there?\n",
    "* Consider carrier - are delays more common for certain airlines? Why? This would help the client from a competitive standpoint as well\n",
    "* Create arr_hour column - are some hours of arrival more popular than others, making delays more likely as pilots wait longer for a landing slot?\n",
    "* Consider the presence of collinearity in the Logistic Regression - how is this impacting our results?"
   ]
  },
  {
   "cell_type": "code",
   "execution_count": null,
   "metadata": {},
   "outputs": [],
   "source": []
  }
 ],
 "metadata": {
  "kernelspec": {
   "display_name": "Python 3 (ipykernel)",
   "language": "python",
   "name": "python3"
  },
  "language_info": {
   "codemirror_mode": {
    "name": "ipython",
    "version": 3
   },
   "file_extension": ".py",
   "mimetype": "text/x-python",
   "name": "python",
   "nbconvert_exporter": "python",
   "pygments_lexer": "ipython3",
   "version": "3.7.3"
  }
 },
 "nbformat": 4,
 "nbformat_minor": 2
}
